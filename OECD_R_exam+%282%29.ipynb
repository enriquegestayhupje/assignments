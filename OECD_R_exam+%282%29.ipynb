{
 "cells": [
  {
   "cell_type": "markdown",
   "metadata": {},
   "source": [
    "# Exam\n",
    "\n",
    "_Name: Jasmin Kareem_\n",
    "\n",
    "_Student Number: u1279920_\n",
    "\n",
    "_Name: Enrique Gesta_\n",
    "\n",
    "_Student Number: 2002470_\n",
    "\n",
    "In this exam, we will work with the \"frequently requested health data” from the OECD.\n",
    "Your task is to compute a simple “efficiency score” and make three plots. \n",
    "\n",
    "\n",
    "You will earn a higher grade if you provide nicer graphs.  \n"
   ]
  },
  {
   "cell_type": "markdown",
   "metadata": {},
   "source": [
    "Now you need to call the libaries\n",
    "\n",
    "* ggplot2\n",
    "* dplyr\n",
    "\n"
   ]
  },
  {
   "cell_type": "code",
   "execution_count": 2,
   "metadata": {
    "collapsed": false
   },
   "outputs": [],
   "source": [
    "library(ggplot2)\n",
    "library(dplyr)"
   ]
  },
  {
   "cell_type": "markdown",
   "metadata": {},
   "source": [
    "Now you have to read the de data that we have cleaned during tutorial 3. The csv file is called oecddata.csv"
   ]
  },
  {
   "cell_type": "code",
   "execution_count": 3,
   "metadata": {
    "collapsed": true
   },
   "outputs": [],
   "source": [
    "oecd <- read.csv(file=\"oecddata.csv\", header=TRUE, sep=\";\")"
   ]
  },
  {
   "cell_type": "markdown",
   "metadata": {},
   "source": [
    "To see how the data look like, use the command:\n",
    "\n",
    "head(oecd)\n",
    "\n",
    "With the command\n",
    "\n",
    "oecd\n",
    "\n",
    "\n",
    "You can see the dataset in total."
   ]
  },
  {
   "cell_type": "code",
   "execution_count": 4,
   "metadata": {
    "collapsed": false
   },
   "outputs": [
    {
     "data": {
      "text/html": [
       "<table>\n",
       "<thead><tr><th scope=col>X</th><th scope=col>Country</th><th scope=col>Year</th><th scope=col>Cost</th><th scope=col>LE</th></tr></thead>\n",
       "<tbody>\n",
       "\t<tr><td>1        </td><td>Australia</td><td>2005     </td><td>2842,1321</td><td>80,9     </td></tr>\n",
       "\t<tr><td>2        </td><td>Australia</td><td>2006     </td><td>3023,0978</td><td>81,1     </td></tr>\n",
       "\t<tr><td>3        </td><td>Australia</td><td>2007     </td><td>3196,226 </td><td>81,4     </td></tr>\n",
       "\t<tr><td>4        </td><td>Australia</td><td>2008     </td><td>3310,1708</td><td>81,5     </td></tr>\n",
       "\t<tr><td>5        </td><td>Australia</td><td>2009     </td><td>3564,4049</td><td>81,6     </td></tr>\n",
       "\t<tr><td>6        </td><td>Australia</td><td>2010     </td><td>3607,3407</td><td>81,8     </td></tr>\n",
       "</tbody>\n",
       "</table>\n"
      ],
      "text/latex": [
       "\\begin{tabular}{r|lllll}\n",
       " X & Country & Year & Cost & LE\\\\\n",
       "\\hline\n",
       "\t 1         & Australia & 2005      & 2842,1321 & 80,9     \\\\\n",
       "\t 2         & Australia & 2006      & 3023,0978 & 81,1     \\\\\n",
       "\t 3         & Australia & 2007      & 3196,226  & 81,4     \\\\\n",
       "\t 4         & Australia & 2008      & 3310,1708 & 81,5     \\\\\n",
       "\t 5         & Australia & 2009      & 3564,4049 & 81,6     \\\\\n",
       "\t 6         & Australia & 2010      & 3607,3407 & 81,8     \\\\\n",
       "\\end{tabular}\n"
      ],
      "text/markdown": [
       "\n",
       "X | Country | Year | Cost | LE | \n",
       "|---|---|---|---|---|---|\n",
       "| 1         | Australia | 2005      | 2842,1321 | 80,9      | \n",
       "| 2         | Australia | 2006      | 3023,0978 | 81,1      | \n",
       "| 3         | Australia | 2007      | 3196,226  | 81,4      | \n",
       "| 4         | Australia | 2008      | 3310,1708 | 81,5      | \n",
       "| 5         | Australia | 2009      | 3564,4049 | 81,6      | \n",
       "| 6         | Australia | 2010      | 3607,3407 | 81,8      | \n",
       "\n",
       "\n"
      ],
      "text/plain": [
       "  X Country   Year Cost      LE  \n",
       "1 1 Australia 2005 2842,1321 80,9\n",
       "2 2 Australia 2006 3023,0978 81,1\n",
       "3 3 Australia 2007 3196,226  81,4\n",
       "4 4 Australia 2008 3310,1708 81,5\n",
       "5 5 Australia 2009 3564,4049 81,6\n",
       "6 6 Australia 2010 3607,3407 81,8"
      ]
     },
     "metadata": {},
     "output_type": "display_data"
    }
   ],
   "source": [
    "head(oecd)\n"
   ]
  },
  {
   "cell_type": "markdown",
   "metadata": {},
   "source": [
    "## Graphs"
   ]
  },
  {
   "cell_type": "markdown",
   "metadata": {},
   "source": [
    "To make the graphs we need to make selections of the data. Please use \"dplyr\" (commands \"select\" and \"filter\") and the \"pipe\". The first assignment is to make a scatterplot using \"ggplot\". The graph contains data for all countries for the year 2014. Therefore make a dataframe with dplyr first, called \"graph1\" with the required data.\n",
    "Then, make a scatterplot with \"Cost\" on the x-axis and \"LE\" on the y-axis. You have to add a regression line with a shaded area for the confidence interval."
   ]
  },
  {
   "cell_type": "code",
   "execution_count": 15,
   "metadata": {
    "collapsed": false,
    "scrolled": true
   },
   "outputs": [
    {
     "data": {},
     "metadata": {},
     "output_type": "display_data"
    },
    {
     "data": {
      "image/png": "[encoded data removed]",
      "text/plain": [
       "plot without title"
      ]
     },
     "metadata": {},
     "output_type": "display_data"
    }
   ],
   "source": [
    "\n",
    "graph1 <- filter(oecd, Year==2014)\n",
    "eff <- select(graph1, Country, Cost, LE)\n",
    "eff <- eff[complete.cases(graph1), ]\n",
    "eff$Cost <- as.numeric(as.factor(eff$Cost))\n",
    "eff$LE <- as.numeric(as.factor(eff$LE))\n",
    "ggplot2 <- ggplot(eff, aes(x= Cost, y= LE, color=Country))  + geom_point() +  stat_smooth(method = \"lm\", col = \"red\")\n",
    "ggplot2"
   ]
  },
  {
   "cell_type": "markdown",
   "metadata": {},
   "source": [
    "The second assignment is to make a line graph. You will use the years 2005-2015 for 5 countries (you can choose your own countries). Make a new dataframe called graph2 with the required data. Then, make a line graph with \"Year\"  and \"Cost\" on the y-axis. There should be coloured lines per country and a legend attached. "
   ]
  },
  {
   "cell_type": "code",
   "execution_count": 155,
   "metadata": {
    "collapsed": false
   },
   "outputs": [
    {
     "data": {},
     "metadata": {},
     "output_type": "display_data"
    },
    {
     "data": {
      "image/png": "[encoded data removed]",
      "text/plain": [
       "plot without title"
      ]
     },
     "metadata": {},
     "output_type": "display_data"
    }
   ],
   "source": [
    "graph2 <- filter(oecd, Year<=2015)\n",
    "x <- filter(graph2,  Country==(\"United Kingdom\"))\n",
    "y <- filter(graph2,  Country==(\"Austria\"))\n",
    "z <- filter(graph2,  Country==(\"Spain\"))\n",
    "t <- filter(graph2,  Country==(\"United States\"))\n",
    "w <- filter(graph2,  Country==(\"Netherlands\"))\n",
    "total <- rbind(x, y, z, w, t)\n",
    "ggplot2 <- ggplot(total, aes(x= Cost, y= LE, color=Country))  +  geom_line(aes(group=1))\n",
    "ggplot2"
   ]
  },
  {
   "cell_type": "markdown",
   "metadata": {},
   "source": [
    "## Efficiency scores\n",
    "\n",
    "The last assignment is to compute simple effiency scores. We will use the year 2014 for all countries (i.e. the dataframe \"graph1\").\n",
    "Make a new dateframe called \"eff\" (using graph1). Please use the \"pipe\" to execute to following steps:\n",
    "Select all the variables except the NA's (hint: use na.omit) and create a new column called \"Ratio\" with mutate. Ratio is defined as \"Cost/LE\" (cost per output).\n",
    "Create a new column called \"Score\" with mutate. Score is the ratio per country divided by the lowest ratio in the dataframe.\n",
    "To complete this dataframe order the dataset using \"arrange\" based on score (i.e. lowest Score first).\n",
    "\n",
    "\n",
    "Finally make a bar chart using ggplot. Countries should be on the x-axis and \"Score\" on the y-axis. \n",
    "\n",
    "\n",
    "\n",
    "You can earn extra points if you are able to order the graph based on scores (lowest first, highest last), if you are able to make the x-axis readable, make the bar of the Netherlands red and the other bars blue and/or change the name of the y-axis to \"Efficiency scores according to [your name]\" \n",
    "\n",
    "\n",
    "The figure should like this:\n",
    "\n",
    "![My Figure](eff.png)"
   ]
  },
  {
   "cell_type": "code",
   "execution_count": 229,
   "metadata": {
    "collapsed": false
   },
   "outputs": [
    {
     "data": {
      "text/html": [
       "<table>\n",
       "<thead><tr><th scope=col>Country</th><th scope=col>Ratio</th><th scope=col>Score</th></tr></thead>\n",
       "<tbody>\n",
       "\t<tr><td>Mexico         </td><td>0.1818182      </td><td> 1.000000      </td></tr>\n",
       "\t<tr><td>Chile          </td><td>0.9473684      </td><td> 5.210526      </td></tr>\n",
       "\t<tr><td>Poland         </td><td>1.0888889      </td><td> 5.988889      </td></tr>\n",
       "\t<tr><td>Greece         </td><td>1.1341463      </td><td> 6.237805      </td></tr>\n",
       "\t<tr><td>Korea          </td><td>1.1685393      </td><td> 6.426966      </td></tr>\n",
       "\t<tr><td>Israel         </td><td>1.3820225      </td><td> 7.601124      </td></tr>\n",
       "\t<tr><td>Latvia         </td><td>1.4117647      </td><td> 7.764706      </td></tr>\n",
       "\t<tr><td>Estonia        </td><td>1.4250000      </td><td> 7.837500      </td></tr>\n",
       "\t<tr><td>Portugal       </td><td>1.6455696      </td><td> 9.050633      </td></tr>\n",
       "\t<tr><td>Spain          </td><td>1.6666667      </td><td> 9.166667      </td></tr>\n",
       "\t<tr><td>Slovenia       </td><td>1.6708861      </td><td> 9.189873      </td></tr>\n",
       "\t<tr><td>Italy          </td><td>1.8775510      </td><td>10.326531      </td></tr>\n",
       "\t<tr><td>Czech Republic </td><td>1.8928571      </td><td>10.410714      </td></tr>\n",
       "\t<tr><td>Slovak Republic</td><td>2.0540541      </td><td>11.297297      </td></tr>\n",
       "\t<tr><td>Hungary        </td><td>2.1333333      </td><td>11.733333      </td></tr>\n",
       "\t<tr><td>Iceland        </td><td>2.5104167      </td><td>13.807292      </td></tr>\n",
       "\t<tr><td>New Zealand    </td><td>2.5301205      </td><td>13.915663      </td></tr>\n",
       "\t<tr><td>Japan          </td><td>2.5940594      </td><td>14.267327      </td></tr>\n",
       "\t<tr><td>Australia      </td><td>2.9010989      </td><td>15.956044      </td></tr>\n",
       "\t<tr><td>France         </td><td>2.9052632      </td><td>15.978947      </td></tr>\n",
       "\t<tr><td>Finland        </td><td>2.9625000      </td><td>16.293750      </td></tr>\n",
       "\t<tr><td>United Kingdom </td><td>3.0246914      </td><td>16.635802      </td></tr>\n",
       "\t<tr><td>Sweden         </td><td>3.5111111      </td><td>19.311111      </td></tr>\n",
       "\t<tr><td>Switzerland    </td><td>3.5151515      </td><td>19.333333      </td></tr>\n",
       "\t<tr><td>Belgium        </td><td>3.5555556      </td><td>19.555556      </td></tr>\n",
       "\t<tr><td>Austria        </td><td>3.6867470      </td><td>20.277108      </td></tr>\n",
       "\t<tr><td>Norway         </td><td>3.7977528      </td><td>20.887640      </td></tr>\n",
       "\t<tr><td>Netherlands    </td><td>3.8352941      </td><td>21.094118      </td></tr>\n",
       "\t<tr><td>Ireland        </td><td>3.8518519      </td><td>21.185185      </td></tr>\n",
       "\t<tr><td>Luxembourg     </td><td>3.8555556      </td><td>21.205556      </td></tr>\n",
       "\t<tr><td>Germany        </td><td>4.0379747      </td><td>22.208861      </td></tr>\n",
       "\t<tr><td>Denmark        </td><td>4.0400000      </td><td>22.220000      </td></tr>\n",
       "\t<tr><td>United States  </td><td>6.8181818      </td><td>37.500000      </td></tr>\n",
       "\t<tr><td>Turkey         </td><td>8.1702128      </td><td>44.936170      </td></tr>\n",
       "</tbody>\n",
       "</table>\n"
      ],
      "text/latex": [
       "\\begin{tabular}{r|lll}\n",
       " Country & Ratio & Score\\\\\n",
       "\\hline\n",
       "\t Mexico          & 0.1818182       &  1.000000      \\\\\n",
       "\t Chile           & 0.9473684       &  5.210526      \\\\\n",
       "\t Poland          & 1.0888889       &  5.988889      \\\\\n",
       "\t Greece          & 1.1341463       &  6.237805      \\\\\n",
       "\t Korea           & 1.1685393       &  6.426966      \\\\\n",
       "\t Israel          & 1.3820225       &  7.601124      \\\\\n",
       "\t Latvia          & 1.4117647       &  7.764706      \\\\\n",
       "\t Estonia         & 1.4250000       &  7.837500      \\\\\n",
       "\t Portugal        & 1.6455696       &  9.050633      \\\\\n",
       "\t Spain           & 1.6666667       &  9.166667      \\\\\n",
       "\t Slovenia        & 1.6708861       &  9.189873      \\\\\n",
       "\t Italy           & 1.8775510       & 10.326531      \\\\\n",
       "\t Czech Republic  & 1.8928571       & 10.410714      \\\\\n",
       "\t Slovak Republic & 2.0540541       & 11.297297      \\\\\n",
       "\t Hungary         & 2.1333333       & 11.733333      \\\\\n",
       "\t Iceland         & 2.5104167       & 13.807292      \\\\\n",
       "\t New Zealand     & 2.5301205       & 13.915663      \\\\\n",
       "\t Japan           & 2.5940594       & 14.267327      \\\\\n",
       "\t Australia       & 2.9010989       & 15.956044      \\\\\n",
       "\t France          & 2.9052632       & 15.978947      \\\\\n",
       "\t Finland         & 2.9625000       & 16.293750      \\\\\n",
       "\t United Kingdom  & 3.0246914       & 16.635802      \\\\\n",
       "\t Sweden          & 3.5111111       & 19.311111      \\\\\n",
       "\t Switzerland     & 3.5151515       & 19.333333      \\\\\n",
       "\t Belgium         & 3.5555556       & 19.555556      \\\\\n",
       "\t Austria         & 3.6867470       & 20.277108      \\\\\n",
       "\t Norway          & 3.7977528       & 20.887640      \\\\\n",
       "\t Netherlands     & 3.8352941       & 21.094118      \\\\\n",
       "\t Ireland         & 3.8518519       & 21.185185      \\\\\n",
       "\t Luxembourg      & 3.8555556       & 21.205556      \\\\\n",
       "\t Germany         & 4.0379747       & 22.208861      \\\\\n",
       "\t Denmark         & 4.0400000       & 22.220000      \\\\\n",
       "\t United States   & 6.8181818       & 37.500000      \\\\\n",
       "\t Turkey          & 8.1702128       & 44.936170      \\\\\n",
       "\\end{tabular}\n"
      ],
      "text/markdown": [
       "\n",
       "Country | Ratio | Score | \n",
       "|---|---|---|---|---|---|---|---|---|---|---|---|---|---|---|---|---|---|---|---|---|---|---|---|---|---|---|---|---|---|---|---|---|---|\n",
       "| Mexico          | 0.1818182       |  1.000000       | \n",
       "| Chile           | 0.9473684       |  5.210526       | \n",
       "| Poland          | 1.0888889       |  5.988889       | \n",
       "| Greece          | 1.1341463       |  6.237805       | \n",
       "| Korea           | 1.1685393       |  6.426966       | \n",
       "| Israel          | 1.3820225       |  7.601124       | \n",
       "| Latvia          | 1.4117647       |  7.764706       | \n",
       "| Estonia         | 1.4250000       |  7.837500       | \n",
       "| Portugal        | 1.6455696       |  9.050633       | \n",
       "| Spain           | 1.6666667       |  9.166667       | \n",
       "| Slovenia        | 1.6708861       |  9.189873       | \n",
       "| Italy           | 1.8775510       | 10.326531       | \n",
       "| Czech Republic  | 1.8928571       | 10.410714       | \n",
       "| Slovak Republic | 2.0540541       | 11.297297       | \n",
       "| Hungary         | 2.1333333       | 11.733333       | \n",
       "| Iceland         | 2.5104167       | 13.807292       | \n",
       "| New Zealand     | 2.5301205       | 13.915663       | \n",
       "| Japan           | 2.5940594       | 14.267327       | \n",
       "| Australia       | 2.9010989       | 15.956044       | \n",
       "| France          | 2.9052632       | 15.978947       | \n",
       "| Finland         | 2.9625000       | 16.293750       | \n",
       "| United Kingdom  | 3.0246914       | 16.635802       | \n",
       "| Sweden          | 3.5111111       | 19.311111       | \n",
       "| Switzerland     | 3.5151515       | 19.333333       | \n",
       "| Belgium         | 3.5555556       | 19.555556       | \n",
       "| Austria         | 3.6867470       | 20.277108       | \n",
       "| Norway          | 3.7977528       | 20.887640       | \n",
       "| Netherlands     | 3.8352941       | 21.094118       | \n",
       "| Ireland         | 3.8518519       | 21.185185       | \n",
       "| Luxembourg      | 3.8555556       | 21.205556       | \n",
       "| Germany         | 4.0379747       | 22.208861       | \n",
       "| Denmark         | 4.0400000       | 22.220000       | \n",
       "| United States   | 6.8181818       | 37.500000       | \n",
       "| Turkey          | 8.1702128       | 44.936170       | \n",
       "\n",
       "\n"
      ],
      "text/plain": [
       "   Country         Ratio     Score    \n",
       "1  Mexico          0.1818182  1.000000\n",
       "2  Chile           0.9473684  5.210526\n",
       "3  Poland          1.0888889  5.988889\n",
       "4  Greece          1.1341463  6.237805\n",
       "5  Korea           1.1685393  6.426966\n",
       "6  Israel          1.3820225  7.601124\n",
       "7  Latvia          1.4117647  7.764706\n",
       "8  Estonia         1.4250000  7.837500\n",
       "9  Portugal        1.6455696  9.050633\n",
       "10 Spain           1.6666667  9.166667\n",
       "11 Slovenia        1.6708861  9.189873\n",
       "12 Italy           1.8775510 10.326531\n",
       "13 Czech Republic  1.8928571 10.410714\n",
       "14 Slovak Republic 2.0540541 11.297297\n",
       "15 Hungary         2.1333333 11.733333\n",
       "16 Iceland         2.5104167 13.807292\n",
       "17 New Zealand     2.5301205 13.915663\n",
       "18 Japan           2.5940594 14.267327\n",
       "19 Australia       2.9010989 15.956044\n",
       "20 France          2.9052632 15.978947\n",
       "21 Finland         2.9625000 16.293750\n",
       "22 United Kingdom  3.0246914 16.635802\n",
       "23 Sweden          3.5111111 19.311111\n",
       "24 Switzerland     3.5151515 19.333333\n",
       "25 Belgium         3.5555556 19.555556\n",
       "26 Austria         3.6867470 20.277108\n",
       "27 Norway          3.7977528 20.887640\n",
       "28 Netherlands     3.8352941 21.094118\n",
       "29 Ireland         3.8518519 21.185185\n",
       "30 Luxembourg      3.8555556 21.205556\n",
       "31 Germany         4.0379747 22.208861\n",
       "32 Denmark         4.0400000 22.220000\n",
       "33 United States   6.8181818 37.500000\n",
       "34 Turkey          8.1702128 44.936170"
      ]
     },
     "metadata": {},
     "output_type": "display_data"
    }
   ],
   "source": [
    "eff <- select(graph1, Country, Cost, LE)\n",
    "eff <- eff[complete.cases(graph2), ]\n",
    "eff$Cost <- as.numeric(as.factor(eff$Cost))\n",
    "eff$LE <- as.numeric(as.factor(eff$LE))\n",
    "eff<- eff %>%\n",
    "  mutate(Ratio = Cost / LE) %>%\n",
    "  arrange((Ratio)) %>%\n",
    "  select(Country, Ratio)\n",
    "eff<- eff %>%\n",
    "  mutate(Score = Ratio /min(eff[,2]) ) %>%\n",
    "  arrange((Score)) %>%\n",
    "  select(Country, Ratio, Score)\n",
    "eff\n",
    "\n",
    "ggplot()"
   ]
  },
  {
   "cell_type": "code",
   "execution_count": 266,
   "metadata": {
    "collapsed": false
   },
   "outputs": [
    {
     "data": {},
     "metadata": {},
     "output_type": "display_data"
    },
    {
     "data": {
      "image/png": "[encoded data removed]",
      "text/plain": [
       "plot without title"
      ]
     },
     "metadata": {},
     "output_type": "display_data"
    }
   ],
   "source": [
    "ggplot(data=eff, aes(x = reorder(Country, Score), y = Score, color=Country)) +\n",
    "         geom_bar(stat = \"identity\") "
   ]
  },
  {
   "cell_type": "code",
   "execution_count": null,
   "metadata": {
    "collapsed": true
   },
   "outputs": [],
   "source": []
  }
 ],
 "metadata": {
  "anaconda-cloud": {},
  "kernelspec": {
   "display_name": "R",
   "language": "R",
   "name": "ir"
  },
  "language_info": {
   "codemirror_mode": "r",
   "file_extension": ".r",
   "mimetype": "text/x-r-source",
   "name": "R",
   "pygments_lexer": "r",
   "version": "3.3.2"
  }
 },
 "nbformat": 4,
 "nbformat_minor": 1
}
